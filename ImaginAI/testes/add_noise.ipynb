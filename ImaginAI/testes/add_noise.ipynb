{
 "cells": [
  {
   "cell_type": "code",
   "execution_count": 6,
   "metadata": {},
   "outputs": [
    {
     "ename": "ModuleNotFoundError",
     "evalue": "No module named 'modelo'",
     "output_type": "error",
     "traceback": [
      "\u001b[1;31m---------------------------------------------------------------------------\u001b[0m",
      "\u001b[1;31mModuleNotFoundError\u001b[0m                       Traceback (most recent call last)",
      "Cell \u001b[1;32mIn[6], line 1\u001b[0m\n\u001b[1;32m----> 1\u001b[0m \u001b[38;5;28;01mfrom\u001b[39;00m \u001b[38;5;21;01mmodelo\u001b[39;00m \u001b[38;5;28;01mimport\u001b[39;00m ddpm \u001b[38;5;28;01mas\u001b[39;00m ddmp\n\u001b[0;32m      2\u001b[0m \u001b[38;5;28;01mfrom\u001b[39;00m \u001b[38;5;21;01mmodelo\u001b[39;00m\u001b[38;5;21;01m.\u001b[39;00m\u001b[38;5;21;01mddpm\u001b[39;00m \u001b[38;5;28;01mimport\u001b[39;00m DDPMAmostra\n\u001b[0;32m      4\u001b[0m \u001b[38;5;28;01mfrom\u001b[39;00m \u001b[38;5;21;01mPIL\u001b[39;00m \u001b[38;5;28;01mimport\u001b[39;00m Image\n",
      "\u001b[1;31mModuleNotFoundError\u001b[0m: No module named 'modelo'"
     ]
    }
   ],
   "source": [
    "from modelo import ddpm as ddmp\n",
    "from modelo.ddpm import DDPMAmostra\n",
    "\n",
    "from PIL import Image\n",
    "import torch\n",
    "import numpy as np\n",
    "import math\n",
    "\n",
    "gerador = torch.Generator()\n",
    "gerador.manual_seed(0)\n",
    "\n",
    "amostrador_ddpm = DDPMAmostra(gerador)\n",
    "\n",
    "niveis_ruido = [0, 10, 50, 75, 100, 250, 500, 750]\n",
    "\n",
    "imagem = Image.open(\"../images/dog.jpg\")\n",
    "imagem_tensor = torch.tensor(np.array(imagem))\n",
    "imagem_tensor = ((imagem_tensor / 255.0) * 2.0) - 1.0\n",
    "\n",
    "lote = imagem_tensor.repeat(len(niveis_ruido), 1, 1, 1)\n",
    "\n",
    "ts = torch.tensor(niveis_ruido, dtype=torch.int, device=lote.device)\n",
    "imagens_ruido = []\n",
    "epsilons = torch.randn(lote.shape, dispositivo=lote.device)\n",
    "\n",
    "for i in range(len(ts)):\n",
    "    a_hat = amostrador_ddpm.alphas_cumprod[ts[i]]\n",
    "    imagens_ruido.append(\n",
    "        (math.sqrt(a_hat) * lote[i]) + (math.sqrt(1 - a_hat) * epsilons[i])\n",
    "    )\n",
    "\n",
    "imagens_ruido = torch.stack(imagens_ruido, dim=0)\n",
    "imagens_ruido = (imagens_ruido.clamp(-1, 1) + 1) / 2\n",
    "imagens_ruido = (imagens_ruido * 255).type(torch.uint8)\n",
    "\n",
    "imagem_exibicao = Image.fromarray(imagens_ruido[7].squeeze(0).numpy(), 'RGB')\n",
    "imagem_exibicao\n"
   ]
  }
 ],
 "metadata": {
  "kernelspec": {
   "display_name": "Python 3",
   "language": "python",
   "name": "python3"
  },
  "language_info": {
   "codemirror_mode": {
    "name": "ipython",
    "version": 3
   },
   "file_extension": ".py",
   "mimetype": "text/x-python",
   "name": "python",
   "nbconvert_exporter": "python",
   "pygments_lexer": "ipython3",
   "version": "3.11.0"
  },
  "orig_nbformat": 4
 },
 "nbformat": 4,
 "nbformat_minor": 2
}
