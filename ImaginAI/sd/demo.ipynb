{
 "cells": [
  {
   "cell_type": "code",
   "execution_count": null,
   "metadata": {
    "cellView": "form",
    "id": "x_dhQfFYXoPu"
   },
   "outputs": [
    {
     "name": "stderr",
     "output_type": "stream",
     "text": [
      "C:\\Users\\Amd\\AppData\\Local\\Temp\\ipykernel_22324\\1915925797.py:15: UserWarning: 'has_mps' is deprecated, please use 'torch.backends.mps.is_built()'\n",
      "  elif (torch.has_mps or torch.backends.mps.is_available()) and PERMITIR_MPS:\n"
     ]
    },
    {
     "name": "stdout",
     "output_type": "stream",
     "text": [
      "Usando o dispositivo: cpu\n"
     ]
    }
   ],
   "source": [
    "import model_loader \n",
    "import pipeline\n",
    "from PIL import Image\n",
    "from pathlib import Path\n",
    "from transformers import CLIPTokenizer\n",
    "import torch\n",
    "\n",
    "dispositivo = \"cpu\"\n",
    "\n",
    "PERMITIR_CUDA = False\n",
    "PERMITIR_MPS = False\n",
    "\n",
    "if torch.cuda.is_available() and PERMITIR_CUDA:\n",
    "    dispositivo = \"cuda\"\n",
    "elif (torch.has_mps or torch.backends.mps.is_available()) and PERMITIR_MPS:\n",
    "    dispositivo = \"mps\"\n",
    "print(f\"Usando o dispositivo: {dispositivo}\")\n",
    "\n",
    "# Verificação do dispositivo para garantir que seja compatível com o Torch Generator\n",
    "if dispositivo not in [\"cpu\", \"cuda\", \"mps\"]:\n",
    "    raise ValueError(f\"Dispositivo '{dispositivo}' não é compatível com o PyTorch.\")\n",
    "\n",
    "gerar_token = CLIPTokenizer(\"../data/vocab.json\", merges_file=\"../data/merges.txt\")\n",
    "arquivo_modelo = \"../data/v1-5-pruned-emaonly.ckpt\"\n",
    "modelos = model_loader.carregar_modelos_pesos_padrao(arquivo_modelo, dispositivo)\n",
    "\n",
    "# Definindo o gerador com o dispositivo correto\n",
    "gerador = torch.Generator(device=dispositivo)  # Força a criação do gerador com o dispositivo correto\n",
    "\n",
    "## TEXTO PARA IMAGEM\n",
    "prompt = \"egg\"\n",
    "uncond_prompt = \"\"  # Também conhecido como prompt negativo\n",
    "fazer_cfg = True\n",
    "escala_cfg = 8  # mínimo: 1, máximo: 14\n",
    "\n",
    "## IMAGEM PARA IMAGEM\n",
    "imagem_entrada = None\n",
    "# Comente para desativar a imagem para imagem\n",
    "caminho_imagem = \"D:\\Baixados\\ForTheKing\\GITHUB\\ImaginAI\\images\"\n",
    "# imagem_entrada = Image.open(caminho_imagem)\n",
    "# Valores mais altos significam que mais ruído será adicionado à imagem de entrada, então o resultado será mais distante da imagem de entrada.\n",
    "# Valores mais baixos significam que menos ruído será adicionado à imagem de entrada, então a saída será mais próxima da imagem de entrada.\n",
    "forca = 0.9\n",
    "\n",
    "## AMOSTRADOR\n",
    "nome_denoiser = \"ddpm\"\n",
    "num_inferencia_passos = 10\n",
    "semente = 42\n",
    "\n",
    "imagem_saida = pipeline.gerar(\n",
    "    prompt=prompt,\n",
    "    uncond_prompt=uncond_prompt,\n",
    "    imagem_entrada=imagem_entrada,\n",
    "    forca=forca,\n",
    "    fazer_cfg=fazer_cfg,\n",
    "    escala_cfg=escala_cfg,\n",
    "    nome_denoiser=nome_denoiser,\n",
    "    n_inferencia_passos=num_inferencia_passos,\n",
    "    semente=semente,\n",
    "    modelos=modelos,\n",
    "    dispositivo=dispositivo,\n",
    "    dispositivo_ocioso=\"cpu\",\n",
    "    gerar_token=gerar_token,\n",
    ")\n",
    "\n",
    "# Combine a imagem de entrada e a imagem de saída em uma única imagem.\n",
    "Image.fromarray(imagem_saida)"
   ]
  }
 ],
 "metadata": {
  "accelerator": "GPU",
  "colab": {
   "collapsed_sections": [
    "iDI2dKfRWTId"
   ],
   "provenance": []
  },
  "gpuClass": "standard",
  "kernelspec": {
   "display_name": "Python 3",
   "name": "python3"
  },
  "language_info": {
   "codemirror_mode": {
    "name": "ipython",
    "version": 3
   },
   "file_extension": ".py",
   "mimetype": "text/x-python",
   "name": "python",
   "nbconvert_exporter": "python",
   "pygments_lexer": "ipython3",
   "version": "3.11.0"
  }
 },
 "nbformat": 4,
 "nbformat_minor": 0
}
